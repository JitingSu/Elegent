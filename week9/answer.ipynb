{
 "cells": [
  {
   "cell_type": "markdown",
   "metadata": {},
   "source": [
    "#### 3.在新数据库中新建一张 user 表,插入几条数据,属性包含:唯一标识(id),姓名(name),性别(sex),年龄(age),联系方式(phone)。\n",
    "\n",
    "```sql\n",
    "-- 创建 user 表\n",
    "CREATE TABLE user (\n",
    "    id INT AUTO_INCREMENT PRIMARY KEY,\n",
    "    name VARCHAR(255) NOT NULL,\n",
    "    sex VARCHAR(10),\n",
    "    age INT,\n",
    "    phone VARCHAR(20)\n",
    ");\n",
    "\n",
    "-- 插入数据\n",
    "INSERT INTO user (name, sex, age, phone)\n",
    "VALUES\n",
    "    ('John Doe', 'Male', 30, '123-456-7890'),\n",
    "    ('Jane Smith', 'Female', 25, '987-654-3210'),\n",
    "    ('Bob Johnson', 'Male', 40, '555-123-4567');\n",
    "```"
   ]
  },
  {
   "cell_type": "markdown",
   "metadata": {},
   "source": [
    "#### 4.写出 SQL语句,查询 user 表中所有年龄在 20-30 范围内的用户。\n",
    "\n",
    "```sql\n",
    "SELECT * FROM user\n",
    "WHERE age >= 20 AND age <= 30;\n",
    "```"
   ]
  },
  {
   "cell_type": "markdown",
   "metadata": {},
   "source": [
    "#### 5.写出 SQL语句,删除 user 表中名字包含“张”的用户。\n",
    "\n",
    "```sql\n",
    "DELETE FROM user\n",
    "WHERE name LIKE '%张%';\n",
    "```"
   ]
  },
  {
   "cell_type": "markdown",
   "metadata": {},
   "source": [
    "#### 6.写出 SQL 语句,计算 user 表中所有用户的平均年龄。\n",
    "\n",
    "```sql\n",
    "SELECT AVG(age) AS average_age FROM user;\n",
    "```"
   ]
  },
  {
   "cell_type": "markdown",
   "metadata": {},
   "source": [
    "#### 7.写出 SQL语句,查询 user 表中年龄在 20-30 范围内，名字包含“张”的用户,并按照年龄从大到小排序输出。\n",
    "\n",
    "```sql\n",
    "SELECT * FROM user\n",
    "WHERE age >= 20 AND age <= 30 AND name LIKE '%张%'\n",
    "ORDER BY age DESC;\n",
    "```"
   ]
  },
  {
   "cell_type": "markdown",
   "metadata": {},
   "source": [
    "#### 8.新建两张表,team 表(id,teamName),score 表(id,teamid,userid,score)。其中,8.score 表中的 teamid 为指向 team 表id 的外键,userid 为指向 user 表id 的外键\n",
    "\n",
    "创建team表\n",
    "\n",
    "```sql\n",
    "CREATE TABLE team (\n",
    "    id INT AUTO_INCREMENT PRIMARY KEY,\n",
    "    teamName VARCHAR(255) NOT NULL\n",
    ");\n",
    "```\n",
    "\n",
    "创建score表\n",
    "\n",
    "```sql\n",
    "CREATE TABLE score (\n",
    "    id INT AUTO_INCREMENT PRIMARY KEY,\n",
    "    teamid INT,\n",
    "    userid INT,\n",
    "    score INT,\n",
    "    FOREIGN KEY (teamid) REFERENCES team(id),\n",
    "    FOREIGN KEY (userid) REFERENCES user(id)\n",
    ");\n",
    "```"
   ]
  },
  {
   "cell_type": "markdown",
   "metadata": {},
   "source": [
    "#### 9.写出 SQL 语句,查询 teamName 为“ECNU”的队伍中,年龄小于 20 的用户们。\n",
    "\n",
    "```sql\n",
    "SELECT u.* FROM user u\n",
    "JOIN score s ON u.id = s.userid\n",
    "JOIN team t ON s.teamid = t.id\n",
    "WHERE t.teamName = 'ECNU' AND u.age < 20;\n",
    "```"
   ]
  },
  {
   "cell_type": "markdown",
   "metadata": {},
   "source": [
    "#### 10.写出 SQL语句,计算 teamName 为“ECNU”的总分(假设 score 存在 null 值,null值默认为 0 加入计算)。\n",
    "\n",
    "```sql\n",
    "SELECT t.teamName, COALESCE(SUM(s.score), 0) AS total_score\n",
    "FROM team t\n",
    "LEFT JOIN score s ON t.id = s.teamid\n",
    "WHERE t.teamName = 'ECNU'\n",
    "GROUP BY t.teamName;\n",
    "```"
   ]
  }
 ],
 "metadata": {
  "language_info": {
   "name": "python"
  }
 },
 "nbformat": 4,
 "nbformat_minor": 2
}
